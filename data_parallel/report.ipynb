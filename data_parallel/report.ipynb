{
  "nbformat": 4,
  "nbformat_minor": 0,
  "metadata": {
    "colab": {
      "provenance": [],
      "gpuType": "T4"
    },
    "kernelspec": {
      "name": "python3",
      "display_name": "Python 3"
    },
    "language_info": {
      "name": "python"
    },
    "accelerator": "GPU"
  },
  "cells": [
    {
      "cell_type": "markdown",
      "source": [
        "Что сделано:\n",
        "- task 1\n",
        "- SyncBatchNorm implementation и Tests for SyncBatchNorm из task 2\n",
        "\n",
        "Что не сделано:\n",
        "- все остальное("
      ],
      "metadata": {
        "id": "qya_yL-NhSqC"
      }
    },
    {
      "cell_type": "code",
      "execution_count": 1,
      "metadata": {
        "colab": {
          "base_uri": "https://localhost:8080/"
        },
        "id": "WZ_-YlXoU-S4",
        "outputId": "782e70f4-d084-43b5-efea-5b257698fdd1"
      },
      "outputs": [
        {
          "output_type": "stream",
          "name": "stdout",
          "text": [
            "[2024-03-15 00:29:25,430] torch.distributed.run: [WARNING] \n",
            "[2024-03-15 00:29:25,430] torch.distributed.run: [WARNING] *****************************************\n",
            "[2024-03-15 00:29:25,430] torch.distributed.run: [WARNING] Setting OMP_NUM_THREADS environment variable for each process to be 1 in default, to avoid your system being overloaded, please further tune the variable for optimal performance in your application as needed. \n",
            "[2024-03-15 00:29:25,430] torch.distributed.run: [WARNING] *****************************************\n",
            "Process 0\n",
            "Process 1\n",
            "Process 2\n",
            "Process 3\n",
            "---\n",
            "Process 0\n",
            "Process 1\n",
            "Process 2\n",
            "Process 3\n",
            "---\n",
            "Process 0\n",
            "Process 1\n",
            "Process 2\n",
            "Process 3\n",
            "---\n",
            "Process 0\n",
            "Process 1\n",
            "Process 2\n",
            "Process 3\n",
            "---\n",
            "Process 0\n",
            "Process 1\n",
            "Process 2\n",
            "Process 3\n",
            "---\n",
            "Process 0\n",
            "Process 1\n",
            "Process 2\n",
            "Process 3\n",
            "---\n",
            "Process 0\n",
            "Process 1\n",
            "Process 2\n",
            "Process 3\n",
            "---\n",
            "Process 0\n",
            "Process 1\n",
            "Process 2\n",
            "Process 3\n",
            "---\n",
            "Process 0\n",
            "Process 1\n",
            "Process 2\n",
            "Process 3\n",
            "---\n",
            "Process 0\n",
            "Process 1\n",
            "Process 2\n",
            "Process 3\n"
          ]
        }
      ],
      "source": [
        "!torchrun --nproc_per_node 4 sequential_print.py"
      ]
    },
    {
      "cell_type": "code",
      "source": [
        "!pytest test_syncbn.py"
      ],
      "metadata": {
        "colab": {
          "base_uri": "https://localhost:8080/"
        },
        "id": "itndNW7xWlbg",
        "outputId": "9b727267-cce3-450c-cc22-f6c8e29b4529"
      },
      "execution_count": 2,
      "outputs": [
        {
          "output_type": "stream",
          "name": "stdout",
          "text": [
            "\u001b[1m======================================= test session starts ========================================\u001b[0m\n",
            "platform linux -- Python 3.10.12, pytest-7.4.4, pluggy-1.4.0\n",
            "rootdir: /content\n",
            "plugins: anyio-3.7.1\n",
            "collected 16 items                                                                                 \u001b[0m\n",
            "\n",
            "test_syncbn.py \u001b[32m.\u001b[0m\u001b[32m.\u001b[0m\u001b[32m.\u001b[0m\u001b[32m.\u001b[0m\u001b[32m.\u001b[0m\u001b[32m.\u001b[0m\u001b[32m.\u001b[0m\u001b[32m.\u001b[0m\u001b[32m.\u001b[0m\u001b[32m.\u001b[0m\u001b[32m.\u001b[0m\u001b[32m.\u001b[0m\u001b[32m.\u001b[0m\u001b[32m.\u001b[0m\u001b[32m.\u001b[0m\u001b[32m.\u001b[0m\u001b[32m                                                              [100%]\u001b[0m\n",
            "\n",
            "\u001b[32m================================== \u001b[32m\u001b[1m16 passed\u001b[0m\u001b[32m in 75.70s (0:01:15)\u001b[0m\u001b[32m ===================================\u001b[0m\n"
          ]
        }
      ]
    },
    {
      "cell_type": "code",
      "source": [],
      "metadata": {
        "id": "ips1M_HegsS6"
      },
      "execution_count": null,
      "outputs": []
    },
    {
      "cell_type": "code",
      "source": [],
      "metadata": {
        "id": "raSnyiYIWtVY"
      },
      "execution_count": null,
      "outputs": []
    }
  ]
}